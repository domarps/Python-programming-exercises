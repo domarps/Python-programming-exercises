{
 "cells": [
  {
   "cell_type": "code",
   "execution_count": 3,
   "metadata": {},
   "outputs": [],
   "source": [
    "import numpy as np\n",
    "x_test = np.array([[1, 2, 5], [3, 4, 8]], dtype=np.float64)\n",
    "x_train = np.array([[4, 5, 7], [2, 3, 9], [2, 8, 1], [1, 5, 8], [4, 5, 3]], dtype=np.float64)"
   ]
  },
  {
   "cell_type": "code",
   "execution_count": 4,
   "metadata": {},
   "outputs": [
    {
     "data": {
      "text/plain": [
       "array([[1., 2., 5.],\n",
       "       [3., 4., 8.]])"
      ]
     },
     "execution_count": 4,
     "metadata": {},
     "output_type": "execute_result"
    }
   ],
   "source": [
    "x_test"
   ]
  },
  {
   "cell_type": "code",
   "execution_count": 5,
   "metadata": {},
   "outputs": [
    {
     "data": {
      "text/plain": [
       "array([[4., 5., 7.],\n",
       "       [2., 3., 9.],\n",
       "       [2., 8., 1.],\n",
       "       [1., 5., 8.],\n",
       "       [4., 5., 3.]])"
      ]
     },
     "execution_count": 5,
     "metadata": {},
     "output_type": "execute_result"
    }
   ],
   "source": [
    "x_train"
   ]
  },
  {
   "cell_type": "code",
   "execution_count": 6,
   "metadata": {},
   "outputs": [],
   "source": [
    "num_test = x_test.shape[0]\n",
    "num_train = x_train.shape[0]\n",
    "dists = np.zeros((num_test, num_train)) \n",
    "wrong_dists = np.zeros((num_test, num_train)) \n",
    "broadcast_dists = np.zeros((num_test, num_train)) "
   ]
  },
  {
   "cell_type": "markdown",
   "metadata": {},
   "source": [
    "### Trying to replicate this using broadcasting ..."
   ]
  },
  {
   "cell_type": "code",
   "execution_count": 7,
   "metadata": {},
   "outputs": [],
   "source": [
    "for i in range(x_test.shape[0]):\n",
    "    for j in range(x_train.shape[0]):\n",
    "        dists[i][j] = np.sqrt(np.sum(np.square(x_train[j] - x_test[i])))"
   ]
  },
  {
   "cell_type": "code",
   "execution_count": 8,
   "metadata": {},
   "outputs": [
    {
     "data": {
      "text/plain": [
       "array([[4.69041576, 4.24264069, 7.28010989, 4.24264069, 4.69041576],\n",
       "       [1.73205081, 1.73205081, 8.1240384 , 2.23606798, 5.19615242]])"
      ]
     },
     "execution_count": 8,
     "metadata": {},
     "output_type": "execute_result"
    }
   ],
   "source": [
    "dists"
   ]
  },
  {
   "cell_type": "markdown",
   "metadata": {},
   "source": [
    "### Broacasting ..."
   ]
  },
  {
   "cell_type": "code",
   "execution_count": 9,
   "metadata": {},
   "outputs": [],
   "source": [
    "for i in range(x_test.shape[0]):\n",
    "    wrong_dists[i,:] = np.sqrt(np.sum(np.square(x_train - x_test[i]))) # Attempt1\n",
    "    broadcast_dists[i,:] = np.sqrt(np.sum(np.square(x_train - x_test[i]), axis=1)) # Attempt2"
   ]
  },
  {
   "cell_type": "code",
   "execution_count": 10,
   "metadata": {},
   "outputs": [
    {
     "name": "stdout",
     "output_type": "stream",
     "text": [
      "wrong matrix...\n",
      "[[11.53256259 11.53256259 11.53256259 11.53256259 11.53256259]\n",
      " [10.19803903 10.19803903 10.19803903 10.19803903 10.19803903]]\n",
      "broadcast done right...\n",
      "[[4.69041576 4.24264069 7.28010989 4.24264069 4.69041576]\n",
      " [1.73205081 1.73205081 8.1240384  2.23606798 5.19615242]]\n"
     ]
    }
   ],
   "source": [
    "print('wrong matrix...')\n",
    "print(wrong_dists)\n",
    "print('broadcast done right...')\n",
    "print(broadcast_dists)"
   ]
  },
  {
   "cell_type": "code",
   "execution_count": 17,
   "metadata": {},
   "outputs": [
    {
     "data": {
      "text/plain": [
       "array([[90.],\n",
       "       [94.],\n",
       "       [69.],\n",
       "       [90.],\n",
       "       [50.]])"
      ]
     },
     "execution_count": 17,
     "metadata": {},
     "output_type": "execute_result"
    }
   ],
   "source": [
    "np.sum(x_train ** 2, axis=1, keepdims = True)"
   ]
  },
  {
   "cell_type": "code",
   "execution_count": 18,
   "metadata": {},
   "outputs": [
    {
     "data": {
      "text/plain": [
       "array([90., 94., 69., 90., 50.])"
      ]
     },
     "execution_count": 18,
     "metadata": {},
     "output_type": "execute_result"
    }
   ],
   "source": [
    "np.sum(x_train ** 2, axis=1)"
   ]
  },
  {
   "cell_type": "code",
   "execution_count": 19,
   "metadata": {},
   "outputs": [
    {
     "data": {
      "text/plain": [
       "393.0"
      ]
     },
     "execution_count": 19,
     "metadata": {},
     "output_type": "execute_result"
    }
   ],
   "source": [
    "np.sum(x_train ** 2)"
   ]
  },
  {
   "cell_type": "code",
   "execution_count": null,
   "metadata": {},
   "outputs": [],
   "source": []
  }
 ],
 "metadata": {
  "kernelspec": {
   "display_name": "Python 3",
   "language": "python",
   "name": "python3"
  },
  "language_info": {
   "codemirror_mode": {
    "name": "ipython",
    "version": 3
   },
   "file_extension": ".py",
   "mimetype": "text/x-python",
   "name": "python",
   "nbconvert_exporter": "python",
   "pygments_lexer": "ipython3",
   "version": "3.6.4"
  }
 },
 "nbformat": 4,
 "nbformat_minor": 2
}
